{
 "cells": [
  {
   "cell_type": "markdown",
   "id": "70f72eb7",
   "metadata": {},
   "source": [
    "# Análisis de Datos Exploratorio"
   ]
  },
  {
   "cell_type": "code",
   "execution_count": 21,
   "id": "9bf19f3b",
   "metadata": {},
   "outputs": [],
   "source": [
    "import pandas as pd\n",
    "import numpy as np\n",
    "import seaborn as sns\n",
    "import pyspark.pandas as ps\n",
    "from dotenv import load_dotenv\n",
    "import os\n",
    "# Deshabilitar ANSI mode para pandas-on-Spark\n",
    "ps.set_option(\"compute.fail_on_ansi_mode\", False)"
   ]
  },
  {
   "cell_type": "markdown",
   "id": "797cfff2",
   "metadata": {},
   "source": [
    "Primero, importemos los datos y hagamos una revisión de los tipos de datos del archivo dados"
   ]
  },
  {
   "cell_type": "code",
   "execution_count": 17,
   "id": "cf7e24d8",
   "metadata": {},
   "outputs": [],
   "source": [
    "#Carguemos la URL de los archivos!\n",
    "load_dotenv()\n",
    "\n",
    "\n",
    "data_path = os.getenv('DATA_PATH')"
   ]
  },
  {
   "cell_type": "code",
   "execution_count": 22,
   "id": "76202393",
   "metadata": {},
   "outputs": [
    {
     "name": "stderr",
     "output_type": "stream",
     "text": [
      "c:\\Users\\pablo\\github projects\\credit_risk_analysis\\.venv\\Lib\\site-packages\\pyspark\\pandas\\utils.py:1037: PandasAPIOnSparkAdviceWarning: The config 'spark.sql.ansi.enabled' is set to True. This can cause unexpected behavior from pandas API on Spark since pandas API on Spark follows the behavior of pandas, not SQL.\n",
      "  warnings.warn(message, PandasAPIOnSparkAdviceWarning)\n",
      "c:\\Users\\pablo\\github projects\\credit_risk_analysis\\.venv\\Lib\\site-packages\\pyspark\\pandas\\namespace.py:1133: FutureWarning: The argument 'date_parser' is deprecated and will be removed in a future version. Please use 'date_format' instead, or read your data in as 'object' dtype and then call 'to_datetime'.\n",
      "  return pd.read_excel(\n"
     ]
    },
    {
     "ename": "ArrowTypeError",
     "evalue": "Expected bytes, got a 'int' object",
     "output_type": "error",
     "traceback": [
      "\u001b[31m---------------------------------------------------------------------------\u001b[39m",
      "\u001b[31mArrowTypeError\u001b[39m                            Traceback (most recent call last)",
      "\u001b[36mCell\u001b[39m\u001b[36m \u001b[39m\u001b[32mIn[22]\u001b[39m\u001b[32m, line 1\u001b[39m\n\u001b[32m----> \u001b[39m\u001b[32m1\u001b[39m init_df = \u001b[43mps\u001b[49m\u001b[43m.\u001b[49m\u001b[43mread_excel\u001b[49m\u001b[43m(\u001b[49m\u001b[43mdata_path\u001b[49m\u001b[43m)\u001b[49m\n",
      "\u001b[36mFile \u001b[39m\u001b[32mc:\\Users\\pablo\\github projects\\credit_risk_analysis\\.venv\\Lib\\site-packages\\pyspark\\pandas\\namespace.py:1176\u001b[39m, in \u001b[36mread_excel\u001b[39m\u001b[34m(io, sheet_name, header, names, index_col, usecols, dtype, engine, converters, true_values, false_values, skiprows, nrows, na_values, keep_default_na, verbose, parse_dates, date_parser, thousands, comment, skipfooter, **kwds)\u001b[39m\n\u001b[32m   1171\u001b[39m         \u001b[38;5;28;01mreturn\u001b[39;00m {\n\u001b[32m   1172\u001b[39m             sn: cast(Union[DataFrame, Series], from_pandas(pdf_or_pser))\n\u001b[32m   1173\u001b[39m             \u001b[38;5;28;01mfor\u001b[39;00m sn, pdf_or_pser \u001b[38;5;129;01min\u001b[39;00m pdf_or_psers.items()\n\u001b[32m   1174\u001b[39m         }\n\u001b[32m   1175\u001b[39m     \u001b[38;5;28;01melse\u001b[39;00m:\n\u001b[32m-> \u001b[39m\u001b[32m1176\u001b[39m         \u001b[38;5;28;01mreturn\u001b[39;00m cast(Union[DataFrame, Series], \u001b[43mfrom_pandas\u001b[49m\u001b[43m(\u001b[49m\u001b[43mpdf_or_psers\u001b[49m\u001b[43m)\u001b[49m)\n\u001b[32m   1177\u001b[39m \u001b[38;5;28;01melse\u001b[39;00m:\n\u001b[32m   1179\u001b[39m     \u001b[38;5;28;01mdef\u001b[39;00m\u001b[38;5;250m \u001b[39m\u001b[34mread_excel_on_spark\u001b[39m(\n\u001b[32m   1180\u001b[39m         pdf_or_pser: Union[pd.DataFrame, pd.Series],\n\u001b[32m   1181\u001b[39m         sn: Union[\u001b[38;5;28mstr\u001b[39m, \u001b[38;5;28mint\u001b[39m, List[Union[\u001b[38;5;28mstr\u001b[39m, \u001b[38;5;28mint\u001b[39m]], \u001b[38;5;28;01mNone\u001b[39;00m],\n\u001b[32m   1182\u001b[39m     ) -> Union[DataFrame, Series]:\n",
      "\u001b[36mFile \u001b[39m\u001b[32mc:\\Users\\pablo\\github projects\\credit_risk_analysis\\.venv\\Lib\\site-packages\\pyspark\\pandas\\namespace.py:183\u001b[39m, in \u001b[36mfrom_pandas\u001b[39m\u001b[34m(pobj)\u001b[39m\n\u001b[32m    181\u001b[39m     \u001b[38;5;28;01mreturn\u001b[39;00m Series(pobj)\n\u001b[32m    182\u001b[39m \u001b[38;5;28;01melif\u001b[39;00m \u001b[38;5;28misinstance\u001b[39m(pobj, pd.DataFrame):\n\u001b[32m--> \u001b[39m\u001b[32m183\u001b[39m     \u001b[38;5;28;01mreturn\u001b[39;00m \u001b[43mDataFrame\u001b[49m\u001b[43m(\u001b[49m\u001b[43mpobj\u001b[49m\u001b[43m)\u001b[49m\n\u001b[32m    184\u001b[39m \u001b[38;5;28;01melif\u001b[39;00m \u001b[38;5;28misinstance\u001b[39m(pobj, pd.Index):\n\u001b[32m    185\u001b[39m     \u001b[38;5;28;01mreturn\u001b[39;00m DataFrame(pd.DataFrame(index=pobj)).index\n",
      "\u001b[36mFile \u001b[39m\u001b[32mc:\\Users\\pablo\\github projects\\credit_risk_analysis\\.venv\\Lib\\site-packages\\pyspark\\pandas\\frame.py:573\u001b[39m, in \u001b[36mDataFrame.__init__\u001b[39m\u001b[34m(self, data, index, columns, dtype, copy)\u001b[39m\n\u001b[32m    570\u001b[39m         index = index._to_pandas()\n\u001b[32m    572\u001b[39m     pdf = pd.DataFrame(data=data, index=index, columns=columns, dtype=dtype, copy=copy)\n\u001b[32m--> \u001b[39m\u001b[32m573\u001b[39m     internal = \u001b[43mInternalFrame\u001b[49m\u001b[43m.\u001b[49m\u001b[43mfrom_pandas\u001b[49m\u001b[43m(\u001b[49m\u001b[43mpdf\u001b[49m\u001b[43m)\u001b[49m\n\u001b[32m    574\u001b[39m     index_assigned = \u001b[38;5;28;01mTrue\u001b[39;00m\n\u001b[32m    576\u001b[39m \u001b[38;5;28;01mif\u001b[39;00m index \u001b[38;5;129;01mis\u001b[39;00m \u001b[38;5;129;01mnot\u001b[39;00m \u001b[38;5;28;01mNone\u001b[39;00m \u001b[38;5;129;01mand\u001b[39;00m \u001b[38;5;129;01mnot\u001b[39;00m index_assigned:\n\u001b[32m    577\u001b[39m     \u001b[38;5;66;03m# TODO(SPARK-40226): Support MultiIndex\u001b[39;00m\n",
      "\u001b[36mFile \u001b[39m\u001b[32mc:\\Users\\pablo\\github projects\\credit_risk_analysis\\.venv\\Lib\\site-packages\\pyspark\\pandas\\internal.py:1480\u001b[39m, in \u001b[36mInternalFrame.from_pandas\u001b[39m\u001b[34m(pdf)\u001b[39m\n\u001b[32m   1468\u001b[39m column_label_names: List[Optional[Label]] = [\n\u001b[32m   1469\u001b[39m     name \u001b[38;5;28;01mif\u001b[39;00m name \u001b[38;5;129;01mis\u001b[39;00m \u001b[38;5;28;01mNone\u001b[39;00m \u001b[38;5;129;01mor\u001b[39;00m \u001b[38;5;28misinstance\u001b[39m(name, \u001b[38;5;28mtuple\u001b[39m) \u001b[38;5;28;01melse\u001b[39;00m (name,) \u001b[38;5;28;01mfor\u001b[39;00m name \u001b[38;5;129;01min\u001b[39;00m columns.names\n\u001b[32m   1470\u001b[39m ]\n\u001b[32m   1472\u001b[39m prefer_timestamp_ntz = is_timestamp_ntz_preferred()\n\u001b[32m   1474\u001b[39m (\n\u001b[32m   1475\u001b[39m     pdf,\n\u001b[32m   1476\u001b[39m     index_columns,\n\u001b[32m   1477\u001b[39m     index_fields,\n\u001b[32m   1478\u001b[39m     data_columns,\n\u001b[32m   1479\u001b[39m     data_fields,\n\u001b[32m-> \u001b[39m\u001b[32m1480\u001b[39m ) = \u001b[43mInternalFrame\u001b[49m\u001b[43m.\u001b[49m\u001b[43mprepare_pandas_frame\u001b[49m\u001b[43m(\u001b[49m\u001b[43mpdf\u001b[49m\u001b[43m,\u001b[49m\u001b[43m \u001b[49m\u001b[43mprefer_timestamp_ntz\u001b[49m\u001b[43m=\u001b[49m\u001b[43mprefer_timestamp_ntz\u001b[49m\u001b[43m)\u001b[49m\n\u001b[32m   1482\u001b[39m schema = StructType([field.struct_field \u001b[38;5;28;01mfor\u001b[39;00m field \u001b[38;5;129;01min\u001b[39;00m index_fields + data_fields])\n\u001b[32m   1484\u001b[39m sdf = default_session().createDataFrame(pdf, schema=schema)\n",
      "\u001b[36mFile \u001b[39m\u001b[32mc:\\Users\\pablo\\github projects\\credit_risk_analysis\\.venv\\Lib\\site-packages\\pyspark\\pandas\\internal.py:1581\u001b[39m, in \u001b[36mInternalFrame.prepare_pandas_frame\u001b[39m\u001b[34m(pdf, retain_index, prefer_timestamp_ntz)\u001b[39m\n\u001b[32m   1578\u001b[39m data_dtypes = \u001b[38;5;28mlist\u001b[39m(reset_index.dtypes)[index_nlevels:]\n\u001b[32m   1580\u001b[39m \u001b[38;5;28;01mfor\u001b[39;00m col, dtype \u001b[38;5;129;01min\u001b[39;00m \u001b[38;5;28mzip\u001b[39m(reset_index.columns, reset_index.dtypes):\n\u001b[32m-> \u001b[39m\u001b[32m1581\u001b[39m     spark_type = \u001b[43minfer_pd_series_spark_type\u001b[49m\u001b[43m(\u001b[49m\u001b[43mreset_index\u001b[49m\u001b[43m[\u001b[49m\u001b[43mcol\u001b[49m\u001b[43m]\u001b[49m\u001b[43m,\u001b[49m\u001b[43m \u001b[49m\u001b[43mdtype\u001b[49m\u001b[43m,\u001b[49m\u001b[43m \u001b[49m\u001b[43mprefer_timestamp_ntz\u001b[49m\u001b[43m)\u001b[49m\n\u001b[32m   1582\u001b[39m     reset_index[col] = DataTypeOps(dtype, spark_type).prepare(reset_index[col])\n\u001b[32m   1584\u001b[39m fields = [\n\u001b[32m   1585\u001b[39m     InternalField(\n\u001b[32m   1586\u001b[39m         dtype=dtype,\n\u001b[32m   (...)\u001b[39m\u001b[32m   1593\u001b[39m     \u001b[38;5;28;01mfor\u001b[39;00m (name, col), dtype \u001b[38;5;129;01min\u001b[39;00m \u001b[38;5;28mzip\u001b[39m(reset_index.items(), index_dtypes + data_dtypes)\n\u001b[32m   1594\u001b[39m ]\n",
      "\u001b[36mFile \u001b[39m\u001b[32mc:\\Users\\pablo\\github projects\\credit_risk_analysis\\.venv\\Lib\\site-packages\\pyspark\\pandas\\typedef\\typehints.py:368\u001b[39m, in \u001b[36minfer_pd_series_spark_type\u001b[39m\u001b[34m(pser, dtype, prefer_timestamp_ntz)\u001b[39m\n\u001b[32m    366\u001b[39m         \u001b[38;5;28;01mreturn\u001b[39;00m pser.iloc[\u001b[32m0\u001b[39m].__UDT__\n\u001b[32m    367\u001b[39m     \u001b[38;5;28;01melse\u001b[39;00m:\n\u001b[32m--> \u001b[39m\u001b[32m368\u001b[39m         \u001b[38;5;28;01mreturn\u001b[39;00m from_arrow_type(\u001b[43mpa\u001b[49m\u001b[43m.\u001b[49m\u001b[43mArray\u001b[49m\u001b[43m.\u001b[49m\u001b[43mfrom_pandas\u001b[49m\u001b[43m(\u001b[49m\u001b[43mpser\u001b[49m\u001b[43m)\u001b[49m.type, prefer_timestamp_ntz)\n\u001b[32m    369\u001b[39m \u001b[38;5;28;01melif\u001b[39;00m \u001b[38;5;28misinstance\u001b[39m(dtype, CategoricalDtype):\n\u001b[32m    370\u001b[39m     \u001b[38;5;28;01mif\u001b[39;00m \u001b[38;5;28misinstance\u001b[39m(pser.dtype, CategoricalDtype):\n",
      "\u001b[36mFile \u001b[39m\u001b[32mc:\\Users\\pablo\\github projects\\credit_risk_analysis\\.venv\\Lib\\site-packages\\pyarrow\\array.pxi:1259\u001b[39m, in \u001b[36mpyarrow.lib.Array.from_pandas\u001b[39m\u001b[34m()\u001b[39m\n",
      "\u001b[36mFile \u001b[39m\u001b[32mc:\\Users\\pablo\\github projects\\credit_risk_analysis\\.venv\\Lib\\site-packages\\pyarrow\\array.pxi:365\u001b[39m, in \u001b[36mpyarrow.lib.array\u001b[39m\u001b[34m()\u001b[39m\n",
      "\u001b[36mFile \u001b[39m\u001b[32mc:\\Users\\pablo\\github projects\\credit_risk_analysis\\.venv\\Lib\\site-packages\\pyarrow\\array.pxi:91\u001b[39m, in \u001b[36mpyarrow.lib._ndarray_to_array\u001b[39m\u001b[34m()\u001b[39m\n",
      "\u001b[36mFile \u001b[39m\u001b[32mc:\\Users\\pablo\\github projects\\credit_risk_analysis\\.venv\\Lib\\site-packages\\pyarrow\\error.pxi:92\u001b[39m, in \u001b[36mpyarrow.lib.check_status\u001b[39m\u001b[34m()\u001b[39m\n",
      "\u001b[31mArrowTypeError\u001b[39m: Expected bytes, got a 'int' object"
     ]
    }
   ],
   "source": [
    "# Cargar datos con configuración mejorada para evitar errores de tipo
try:
    # Primero intentar con pandas-on-Spark
    init_df = ps.read_excel(
        data_path,
        engine='openpyxl',  # Usar openpyxl engine
        dtype={
            'IdentificadorCliente': 'int64',
            'FechaEvento': 'object',  # Mantener como objeto para procesar después
            'DiasMaximosMoraCreditosGenerados': 'float64',
            'NumeroCreditosGPrevius': 'float64',
            'CupoAprobado': 'float64'
        }
    )
    print("Datos cargados exitosamente con pandas-on-Spark")
except Exception as e:
    print(f"Error con pandas-on-Spark: {e}")
    print("Intentando con pandas regular...")
    
    # Fallback a pandas regular
    import pandas as pd
    init_df = pd.read_excel(
        data_path,
        engine='openpyxl'
    )
    # Convertir a pandas-on-Spark después de cargar
    init_df = ps.from_pandas(init_df)
    print("Datos cargados con pandas regular y convertidos a pandas-on-Spark")"
   ]
  },
  {
   "cell_type": "code",
   "execution_count": 9,
   "id": "7fd2603d",
   "metadata": {},
   "outputs": [
    {
     "name": "stdout",
     "output_type": "stream",
     "text": [
      "<class 'pandas.core.frame.DataFrame'>\n",
      "RangeIndex: 146939 entries, 0 to 146938\n",
      "Data columns (total 30 columns):\n",
      " #   Column                                  Non-Null Count   Dtype  \n",
      "---  ------                                  --------------   -----  \n",
      " 0   IdentificadorCliente                    146939 non-null  int64  \n",
      " 1   FechaEvento                             146939 non-null  object \n",
      " 2   UsabilidadCupo                          146939 non-null  object \n",
      " 3   CategoriaPrincipalCredito               114111 non-null  object \n",
      " 4   DiasMaximosMoraCreditosGenerados        108968 non-null  float64\n",
      " 5   NumeroCreditosGPrevius                  115051 non-null  float64\n",
      " 6   NumeroCreditosGCanalFPrevius            115051 non-null  float64\n",
      " 7   NumeroCreditosGEstadoActivosPrevius     115051 non-null  float64\n",
      " 8   NumeroCreditosGEstadoPagadosPrevius     115051 non-null  float64\n",
      " 9   NumeroCreditosGCanalVPrevius            115051 non-null  float64\n",
      " 10  NumeroCreditosLPrevius                  115051 non-null  float64\n",
      " 11  NumeroCreditosLEstadoActivosPrevius     115051 non-null  float64\n",
      " 12  NumeroCreditosLEstadoPagadosPrevius     115051 non-null  float64\n",
      " 13  FechaVinculacionCliente                 145115 non-null  float64\n",
      " 14  FechaPrimerUso                          111065 non-null  float64\n",
      " 15  FechaUltimoUso                          111065 non-null  float64\n",
      " 16  TotalPagosEfectuadosGlobalmentePrevius  107923 non-null  float64\n",
      " 17  TotalPagosEfectuadosLocalmentePrevius   107923 non-null  float64\n",
      " 18  CodigoAlmacenEntregaTC                  146939 non-null  object \n",
      " 19  CodigoMunicipioEntregaTC                145109 non-null  float64\n",
      " 20  TipoMunicipioEntregaTC                  145109 non-null  object \n",
      " 21  CanalMunicipioEntregaTC                 146923 non-null  object \n",
      " 22  NumeroIntentosFallidos                  146811 non-null  float64\n",
      " 23  CupoAprobado                            146279 non-null  float64\n",
      " 24  UsoAppWeb                               110889 non-null  object \n",
      " 25  ScoreCrediticio                         146848 non-null  float64\n",
      " 26  Genero                                  146937 non-null  object \n",
      " 27  Edad                                    145341 non-null  float64\n",
      " 28  DiasMora                                146939 non-null  int64  \n",
      " 29  PerdidaCartera                          146939 non-null  int64  \n",
      "dtypes: float64(19), int64(3), object(8)\n",
      "memory usage: 33.6+ MB\n",
      "None\n",
      "       IdentificadorCliente  DiasMaximosMoraCreditosGenerados  \\\n",
      "count          146939.00000                     108968.000000   \n",
      "mean            73470.00000                         77.787626   \n",
      "std             42417.77994                        224.206547   \n",
      "min                 1.00000                          0.000000   \n",
      "25%             36735.50000                          0.000000   \n",
      "50%             73470.00000                          0.000000   \n",
      "75%            110204.50000                         48.000000   \n",
      "max            146939.00000                       3309.000000   \n",
      "\n",
      "       NumeroCreditosGPrevius  NumeroCreditosGCanalFPrevius  \\\n",
      "count           115051.000000                 115051.000000   \n",
      "mean                12.063155                     11.622046   \n",
      "std                 17.146242                     17.003708   \n",
      "min                  0.000000                      0.000000   \n",
      "25%                  2.000000                      2.000000   \n",
      "50%                  6.000000                      5.000000   \n",
      "75%                 15.000000                     15.000000   \n",
      "max                349.000000                    349.000000   \n",
      "\n",
      "       NumeroCreditosGEstadoActivosPrevius  \\\n",
      "count                        115051.000000   \n",
      "mean                              0.292592   \n",
      "std                               1.086592   \n",
      "min                               0.000000   \n",
      "25%                               0.000000   \n",
      "50%                               0.000000   \n",
      "75%                               0.000000   \n",
      "max                              31.000000   \n",
      "\n",
      "       NumeroCreditosGEstadoPagadosPrevius  NumeroCreditosGCanalVPrevius  \\\n",
      "count                        115051.000000                 115051.000000   \n",
      "mean                             11.723644                      0.441109   \n",
      "std                              17.013161                      1.387426   \n",
      "min                               0.000000                      0.000000   \n",
      "25%                               2.000000                      0.000000   \n",
      "50%                               5.000000                      0.000000   \n",
      "75%                              15.000000                      0.000000   \n",
      "max                             349.000000                     58.000000   \n",
      "\n",
      "       NumeroCreditosLPrevius  NumeroCreditosLEstadoActivosPrevius  \\\n",
      "count           115051.000000                        115051.000000   \n",
      "mean                 0.359754                             0.027058   \n",
      "std                  1.136460                             0.215295   \n",
      "min                  0.000000                             0.000000   \n",
      "25%                  0.000000                             0.000000   \n",
      "50%                  0.000000                             0.000000   \n",
      "75%                  0.000000                             0.000000   \n",
      "max                123.000000                            13.000000   \n",
      "\n",
      "       NumeroCreditosLEstadoPagadosPrevius  ...  FechaUltimoUso  \\\n",
      "count                        115051.000000  ...   111065.000000   \n",
      "mean                              0.247177  ...    44838.689425   \n",
      "std                               0.808488  ...      317.957633   \n",
      "min                               0.000000  ...    36512.000000   \n",
      "25%                               0.000000  ...    44717.000000   \n",
      "50%                               0.000000  ...    44884.000000   \n",
      "75%                               0.000000  ...    45041.000000   \n",
      "max                              29.000000  ...    45230.000000   \n",
      "\n",
      "       TotalPagosEfectuadosGlobalmentePrevius  \\\n",
      "count                           107923.000000   \n",
      "mean                                34.402481   \n",
      "std                                 50.421206   \n",
      "min                                  0.000000   \n",
      "25%                                  5.000000   \n",
      "50%                                 16.000000   \n",
      "75%                                 42.000000   \n",
      "max                               1102.000000   \n",
      "\n",
      "       TotalPagosEfectuadosLocalmentePrevius  CodigoMunicipioEntregaTC  \\\n",
      "count                          107923.000000             145109.000000   \n",
      "mean                                0.813163                124.663384   \n",
      "std                                 2.630389                210.947443   \n",
      "min                                 0.000000                 -1.000000   \n",
      "25%                                 0.000000                 -1.000000   \n",
      "50%                                 0.000000                  4.000000   \n",
      "75%                                 0.000000                139.000000   \n",
      "max                                81.000000               1126.000000   \n",
      "\n",
      "       NumeroIntentosFallidos  CupoAprobado  ScoreCrediticio           Edad  \\\n",
      "count           146811.000000  1.462790e+05    146848.000000  145341.000000   \n",
      "mean                 0.303315  1.395009e+10       529.940101      31.616928   \n",
      "std                  1.209912  1.151370e+10       254.322400       9.806177   \n",
      "min                  0.000000  1.000000e+09        -9.000000      18.000000   \n",
      "25%                  0.000000  4.000000e+09       520.000000      24.000000   \n",
      "50%                  0.000000  1.000000e+10       611.000000      29.000000   \n",
      "75%                  0.000000  3.000000e+10       687.000000      37.000000   \n",
      "max                130.000000  1.000000e+11       999.000000      99.000000   \n",
      "\n",
      "            DiasMora  PerdidaCartera  \n",
      "count  146939.000000   146939.000000  \n",
      "mean      203.896113        0.225509  \n",
      "std       450.909210        0.417918  \n",
      "min         0.000000        0.000000  \n",
      "25%         0.000000        0.000000  \n",
      "50%         0.000000        0.000000  \n",
      "75%         0.000000        0.000000  \n",
      "max      1800.000000        1.000000  \n",
      "\n",
      "[8 rows x 22 columns]\n"
     ]
    }
   ],
   "source": [
    "print(init_df.info())\n",
    "print(init_df.describe())\n",
    "\n"
   ]
  }
 ],
 "metadata": {
  "kernelspec": {
   "display_name": ".venv",
   "language": "python",
   "name": "python3"
  },
  "language_info": {
   "codemirror_mode": {
    "name": "ipython",
    "version": 3
   },
   "file_extension": ".py",
   "mimetype": "text/x-python",
   "name": "python",
   "nbconvert_exporter": "python",
   "pygments_lexer": "ipython3",
   "version": "3.11.4"
  }
 },
 "nbformat": 4,
 "nbformat_minor": 5
}
