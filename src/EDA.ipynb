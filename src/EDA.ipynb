{
 "cells": [
  {
   "cell_type": "markdown",
   "id": "456a09a5",
   "metadata": {},
   "source": [
    "# En este archivo, se presentan los primeros hallazgos de los datos presentados. \n"
   ]
  },
  {
   "cell_type": "markdown",
   "id": "0092fa83",
   "metadata": {},
   "source": []
  }
 ],
 "metadata": {
  "language_info": {
   "name": "python"
  }
 },
 "nbformat": 4,
 "nbformat_minor": 5
}
